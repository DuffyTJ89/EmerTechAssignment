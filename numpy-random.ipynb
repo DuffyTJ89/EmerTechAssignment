{
 "cells": [
  {
   "cell_type": "markdown",
   "metadata": {},
   "source": [
    "# Generating Random Numbers with Numpty"
   ]
  },
  {
   "cell_type": "markdown",
   "metadata": {},
   "source": [
    "NumPy is a Python library that provides a multidimensional array object, various derived objects (such as masked arrays and matrices), and an assortment of routines for fast operations on arrays, including mathematical, logical, shape manipulation, sorting, selecting, I/O, discrete Fourier transforms, basic linear algebra, basic statistical operations, random simulation and much more.\n",
    "\n",
    "NumPy provides various routines in the submodule random. It uses a particular algorithm, called the Mersenne Twister, to generate pseudorandom numbers."
   ]
  },
  {
   "cell_type": "markdown",
   "metadata": {},
   "source": [
    "First import numpy as seen below, the imported numpy package will come with the random submodule."
   ]
  },
  {
   "cell_type": "code",
   "execution_count": 1,
   "metadata": {},
   "outputs": [],
   "source": [
    "import numpy as np"
   ]
  },
  {
   "cell_type": "markdown",
   "metadata": {},
   "source": [
    "Now we want to do something with this package. np.random.uniform draws samples from a uniform distribution. \n",
    "The code below is the same as numpy.random.uniform(low=0.0, high=1.0). We are giving it a range and it will return as output a random number in that range with a lowest possible selection and a highest possible selection."
   ]
  },
  {
   "cell_type": "code",
   "execution_count": 2,
   "metadata": {},
   "outputs": [
    {
     "data": {
      "text/plain": [
       "68.97684860318898"
      ]
     },
     "execution_count": 2,
     "metadata": {},
     "output_type": "execute_result"
    }
   ],
   "source": [
    "np.random.uniform(0.0, 100.0)"
   ]
  },
  {
   "cell_type": "markdown",
   "metadata": {},
   "source": [
    "The random number has been generated. The answer should be different each time it is run because the range is big enough that it is very unlikey you would get the same number twice.\n",
    "\n",
    "{ref: https://www.w3cschool.cn/doc_numpy_1_10/numpy_1_10-generated-numpy-random-uniform.html }"
   ]
  },
  {
   "cell_type": "markdown",
   "metadata": {},
   "source": [
    "### Randint"
   ]
  },
  {
   "cell_type": "markdown",
   "metadata": {},
   "source": [
    "Return random integers from low (inclusive) to high (exclusive). This can be useful in a situation like simulating the roll of a dice. Give randint the rang 1 and 7 because the first parameter is inclusive and the second exclusive, so 1 upto 7. "
   ]
  },
  {
   "cell_type": "code",
   "execution_count": 3,
   "metadata": {},
   "outputs": [
    {
     "name": "stdout",
     "output_type": "stream",
     "text": [
      "1\n",
      "1\n",
      "4\n",
      "2\n",
      "2\n",
      "6\n",
      "5\n",
      "1\n",
      "2\n",
      "4\n"
     ]
    }
   ],
   "source": [
    "for i in range (10):\n",
    "    print (np.random.randint(1,7))"
   ]
  },
  {
   "cell_type": "markdown",
   "metadata": {},
   "source": [
    "{ref : https://www.youtube.com/watch?v=zWL3z7NMqAs }"
   ]
  },
  {
   "cell_type": "markdown",
   "metadata": {},
   "source": [
    "###  Arrange and reshape"
   ]
  },
  {
   "cell_type": "markdown",
   "metadata": {},
   "source": [
    "Arrange : Return evenly spaced values within a given interval.  \n",
    "Reshape : Gives a new shape to an array without changing its data.\n",
    "\n",
    "So below we are setting an array to display 15 values and then using reshape to display it in a 3 x 5 format, 3 columns and 5 rows. Then we print out the array by calling it."
   ]
  },
  {
   "cell_type": "code",
   "execution_count": 4,
   "metadata": {},
   "outputs": [
    {
     "data": {
      "text/plain": [
       "array([[ 0,  1,  2,  3,  4],\n",
       "       [ 5,  6,  7,  8,  9],\n",
       "       [10, 11, 12, 13, 14]])"
      ]
     },
     "execution_count": 4,
     "metadata": {},
     "output_type": "execute_result"
    }
   ],
   "source": [
    "a = np.arange(15).reshape(3, 5)\n",
    "a"
   ]
  },
  {
   "cell_type": "markdown",
   "metadata": {},
   "source": [
    "### Shuffle"
   ]
  },
  {
   "cell_type": "markdown",
   "metadata": {},
   "source": [
    "Modify a sequence in-place by shuffling its contents.  \n",
    "\n",
    "This function only shuffles the array along the first axis of a multi-dimensional array. The order of sub-arrays is changed but their contents remains the same.\n",
    "\n",
    "So when we take our array from above and shuffle the order of the rows. Although the rows are shuffled their order remains the same inside the row because it is only works on the first axis."
   ]
  },
  {
   "cell_type": "code",
   "execution_count": 5,
   "metadata": {},
   "outputs": [
    {
     "data": {
      "text/plain": [
       "array([[ 0,  1,  2,  3,  4],\n",
       "       [ 5,  6,  7,  8,  9],\n",
       "       [10, 11, 12, 13, 14]])"
      ]
     },
     "execution_count": 5,
     "metadata": {},
     "output_type": "execute_result"
    }
   ],
   "source": [
    "a2 = np.arange(15).reshape(3, 5)\n",
    "np.random.shuffle(a2)\n",
    "a2"
   ]
  },
  {
   "cell_type": "markdown",
   "metadata": {},
   "source": [
    "If we don't use reshape to change the way the array is ouput we'll see a full random array"
   ]
  },
  {
   "cell_type": "code",
   "execution_count": 6,
   "metadata": {},
   "outputs": [
    {
     "data": {
      "text/plain": [
       "array([11, 10,  7, 13, 14,  8,  1,  2, 12,  5,  0,  3,  4,  9,  6])"
      ]
     },
     "execution_count": 6,
     "metadata": {},
     "output_type": "execute_result"
    }
   ],
   "source": [
    "a3 = np.arange(15)\n",
    "np.random.shuffle(a3)\n",
    "a3"
   ]
  },
  {
   "cell_type": "markdown",
   "metadata": {},
   "source": [
    "{ref: https://docs.scipy.org/doc/numpy-1.14.0/reference/generated/numpy.random.shuffle.html#numpy.random.shuffle }"
   ]
  },
  {
   "cell_type": "markdown",
   "metadata": {},
   "source": [
    "### Seed\n",
    "\n",
    "Seed the generator. This method is called when RandomState is initialized. It can be called again to re-seed the generator"
   ]
  },
  {
   "cell_type": "code",
   "execution_count": 7,
   "metadata": {},
   "outputs": [
    {
     "data": {
      "text/plain": [
       "array([1.9151945 , 6.22108771, 4.37727739, 7.85358584, 7.79975808])"
      ]
     },
     "execution_count": 7,
     "metadata": {},
     "output_type": "execute_result"
    }
   ],
   "source": [
    "np.random.seed(1234)\n",
    "np.random.uniform(0, 10, 5)"
   ]
  },
  {
   "cell_type": "markdown",
   "metadata": {},
   "source": [
    "### RandomState\n",
    "\n",
    "RandomState exposes a number of methods for generating random numbers drawn from a variety of probability distributions. In addition to the distribution-specific arguments, each method takes a keyword argument size that defaults to None. If size is None, then a single value is generated and returned. If size is an integer, then a 1-D array filled with generated values is returned. If size is a tuple, then an array with that shape is filled and returned.\n",
    "\n",
    "A fixed seed and a fixed series of calls to ‘RandomState’ methods using the same parameters will always produce the same results so the random answer can be worked out if the user knows the seed."
   ]
  },
  {
   "cell_type": "code",
   "execution_count": 8,
   "metadata": {},
   "outputs": [
    {
     "data": {
      "text/plain": [
       "array([1.9151945 , 6.22108771, 4.37727739, 7.85358584, 7.79975808])"
      ]
     },
     "execution_count": 8,
     "metadata": {},
     "output_type": "execute_result"
    }
   ],
   "source": [
    "r = np.random.RandomState(1234)\n",
    "r.uniform(0, 10, 5)"
   ]
  },
  {
   "cell_type": "markdown",
   "metadata": {},
   "source": [
    "{ref: https://docs.scipy.org/doc/numpy-1.14.0/reference/generated/numpy.random.seed.html#numpy.random.seed\n",
    "      https://docs.scipy.org/doc/numpy-1.14.0/reference/generated/numpy.random.RandomState.html#numpy.random.RandomState  }"
   ]
  },
  {
   "cell_type": "markdown",
   "metadata": {},
   "source": [
    "### Plotting with matplotlib\n",
    "\n",
    "Matplotlib is a Python 2D plotting library which produces figures in hardcopy formats and interactive environments across platforms. Matplotlib can be used in Python scripts, the Python and IPython shells, web application servers, and as we are using it here Jupyter notebook.\n",
    "\n",
    "{ref: https://matplotlib.org/}\n",
    "\n",
    "Import the library as below"
   ]
  },
  {
   "cell_type": "code",
   "execution_count": 9,
   "metadata": {},
   "outputs": [],
   "source": [
    "import matplotlib.pyplot as plt"
   ]
  },
  {
   "cell_type": "markdown",
   "metadata": {},
   "source": [
    "Next we will use matplotlib to plot and show the distribution of random values generated by the np.random.rand function we used previously. We will generate a sample set of values and then plot them."
   ]
  },
  {
   "cell_type": "code",
   "execution_count": 10,
   "metadata": {},
   "outputs": [
    {
     "data": {
      "text/plain": [
       "array([0.27259261, 0.27646426, 0.80187218, 0.95813935, 0.87593263,\n",
       "       0.35781727, 0.50099513, 0.68346294, 0.71270203, 0.37025075,\n",
       "       0.56119619, 0.50308317, 0.01376845, 0.77282662, 0.88264119,\n",
       "       0.36488598, 0.61539618, 0.07538124, 0.36882401, 0.9331401 ,\n",
       "       0.65137814, 0.39720258, 0.78873014, 0.31683612, 0.56809865,\n",
       "       0.86912739, 0.43617342, 0.80214764, 0.14376682, 0.70426097,\n",
       "       0.70458131, 0.21879211, 0.92486763, 0.44214076, 0.90931596,\n",
       "       0.05980922, 0.18428708, 0.04735528, 0.67488094, 0.59462478,\n",
       "       0.53331016, 0.04332406, 0.56143308, 0.32966845, 0.50296683,\n",
       "       0.11189432, 0.60719371, 0.56594464, 0.00676406, 0.61744171,\n",
       "       0.91212289, 0.79052413, 0.99208147, 0.95880176, 0.79196414,\n",
       "       0.28525096, 0.62491671, 0.4780938 , 0.19567518, 0.38231745,\n",
       "       0.05387369, 0.45164841, 0.98200474, 0.1239427 , 0.1193809 ,\n",
       "       0.73852306, 0.58730363, 0.47163253, 0.10712682, 0.22921857,\n",
       "       0.89996519, 0.41675354, 0.53585166, 0.00620852, 0.30064171,\n",
       "       0.43689317, 0.612149  , 0.91819808, 0.62573667, 0.70599757,\n",
       "       0.14983372, 0.74606341, 0.83100699, 0.63372577, 0.43830988,\n",
       "       0.15257277, 0.56840962, 0.52822428, 0.95142876, 0.48035918,\n",
       "       0.50255956, 0.53687819, 0.81920207, 0.05711564, 0.66942174,\n",
       "       0.76711663, 0.70811536, 0.79686718, 0.55776083, 0.96583653,\n",
       "       0.1471569 , 0.029647  , 0.59389349, 0.1140657 , 0.95080985,\n",
       "       0.32570741, 0.19361869, 0.45781165, 0.92040257, 0.87906916,\n",
       "       0.25261576, 0.34800879, 0.18258873, 0.90179605, 0.70652816,\n",
       "       0.72665846, 0.90008784, 0.7791638 , 0.59915478, 0.29112524,\n",
       "       0.15139526, 0.33517466, 0.65755178, 0.07334254, 0.0550064 ,\n",
       "       0.32319481, 0.5904818 , 0.85389857, 0.28706243, 0.17306723,\n",
       "       0.13402121, 0.99465383, 0.17949787, 0.31754682, 0.5682914 ,\n",
       "       0.00934857, 0.90064862, 0.97724143, 0.55689468, 0.08477384,\n",
       "       0.33300247, 0.72842868, 0.14243537, 0.55246894, 0.27304326,\n",
       "       0.97449514, 0.66778691, 0.25565329, 0.10831149, 0.77618072,\n",
       "       0.78247799, 0.76160391, 0.91440311, 0.65862278, 0.56836758,\n",
       "       0.20175569, 0.69829638, 0.95219541, 0.88996329, 0.99356736,\n",
       "       0.81870351, 0.54512217, 0.45125405, 0.89055719, 0.97326479,\n",
       "       0.59341133, 0.3660745 , 0.32309469, 0.87142326, 0.21563406,\n",
       "       0.73494519, 0.36561909, 0.8016026 , 0.78273559, 0.70135538,\n",
       "       0.62277659, 0.49368265, 0.8405377 , 0.71209699, 0.44390898,\n",
       "       0.03103486, 0.36323976, 0.73072179, 0.47556657, 0.34441697,\n",
       "       0.64088043, 0.12620532, 0.17146526, 0.73708649, 0.12702939,\n",
       "       0.36964987, 0.604334  , 0.10310444, 0.80237418, 0.94555324,\n",
       "       0.97903882, 0.88123225, 0.62768192, 0.93048653, 0.72478995,\n",
       "       0.71667789, 0.04107857, 0.43948178, 0.28206978, 0.33499597,\n",
       "       0.08352701, 0.76084915, 0.50927245, 0.66104742, 0.63031444,\n",
       "       0.37092683, 0.44674015, 0.41510822, 0.48038851, 0.98332357,\n",
       "       0.37342371, 0.01240698, 0.92190334, 0.87327607, 0.35174682,\n",
       "       0.63013311, 0.35782696, 0.21281994, 0.22331922, 0.41956379,\n",
       "       0.07291022, 0.65083907, 0.75568615, 0.93210123, 0.37640416,\n",
       "       0.29692728, 0.37194431, 0.82769936, 0.90113954, 0.42730378,\n",
       "       0.00218943, 0.04196524, 0.14178738, 0.59823719, 0.10646052,\n",
       "       0.29715899, 0.05839199, 0.62132486, 0.02268048, 0.85505469,\n",
       "       0.3063372 , 0.75878344, 0.56327511, 0.03816418, 0.56551672,\n",
       "       0.65887349, 0.18326635, 0.79741131, 0.61236743, 0.55565338,\n",
       "       0.62949154, 0.68618008, 0.24038254, 0.78792779, 0.85647746,\n",
       "       0.72779602, 0.69234514, 0.47235094, 0.85687294, 0.66474333,\n",
       "       0.33337594, 0.5181455 , 0.39468858, 0.0310496 , 0.57683984,\n",
       "       0.85025175, 0.95148887, 0.6829788 , 0.07616255, 0.41007794,\n",
       "       0.0419014 , 0.17418683, 0.56540201, 0.17289117, 0.56661048,\n",
       "       0.51400425, 0.86887089, 0.72034725, 0.90359135, 0.277615  ,\n",
       "       0.25666543, 0.69970326, 0.9015689 , 0.98369233, 0.64091281,\n",
       "       0.33000739, 0.60667522, 0.82215979, 0.62796507, 0.11792306,\n",
       "       0.28587767, 0.98674722, 0.43180085, 0.57423441, 0.52724208,\n",
       "       0.19765305, 0.16570843, 0.50099046, 0.99020406, 0.39399181,\n",
       "       0.71401327, 0.17590427, 0.07069618, 0.15762309, 0.16155801,\n",
       "       0.28363708, 0.53670603, 0.77323871, 0.88034358, 0.63739145,\n",
       "       0.85260224, 0.59795537, 0.69384666, 0.53717667, 0.88923008,\n",
       "       0.05226643, 0.7831837 , 0.14517327, 0.05869843, 0.05899458,\n",
       "       0.05197123, 0.51598609, 0.40499622, 0.99964959, 0.10857001,\n",
       "       0.3273843 , 0.99782993, 0.40111439, 0.88333577, 0.56913858,\n",
       "       0.95324089, 0.88538724, 0.77928559, 0.03180806, 0.96261853,\n",
       "       0.51963544, 0.20779101, 0.87509781, 0.22415148, 0.13865933,\n",
       "       0.72523929, 0.97378891, 0.53548188, 0.444798  , 0.02211118,\n",
       "       0.60598834, 0.96479652, 0.96759148, 0.93002881, 0.18467983,\n",
       "       0.62296216, 0.41296267, 0.3630612 , 0.03660294, 0.86814871,\n",
       "       0.67282821, 0.08747161, 0.88696594, 0.78246455, 0.31730441,\n",
       "       0.81831379, 0.50755507, 0.0211933 , 0.43352176, 0.44631306,\n",
       "       0.23881999, 0.83024573, 0.74476418, 0.586479  , 0.49286785,\n",
       "       0.48735588, 0.2667407 , 0.6050111 , 0.75354372, 0.27058423,\n",
       "       0.52230328, 0.09832853, 0.71363667, 0.88404059, 0.56705442,\n",
       "       0.99448158, 0.17873977, 0.01220009, 0.45699848, 0.93175194,\n",
       "       0.84602469, 0.47332988, 0.90255503, 0.22599553, 0.30415374,\n",
       "       0.71499388, 0.72409148, 0.01867644, 0.2858131 , 0.58048634,\n",
       "       0.93078663, 0.3389969 , 0.12008312, 0.51627271, 0.69920706,\n",
       "       0.29864068, 0.86160962, 0.9058072 , 0.76858325, 0.26123164,\n",
       "       0.9384556 , 0.93864246, 0.74504455, 0.91073504, 0.23722471,\n",
       "       0.49496735, 0.80987834, 0.95456578, 0.63748325, 0.91084975,\n",
       "       0.69213675, 0.04294299, 0.8335869 , 0.36994852, 0.936557  ,\n",
       "       0.48305288, 0.12533161, 0.96445418, 0.01702583, 0.67657077,\n",
       "       0.14043997, 0.15531285, 0.64955775, 0.98165422, 0.69480742,\n",
       "       0.76197389, 0.42520918, 0.13889344, 0.2161863 , 0.76470027,\n",
       "       0.05460587, 0.49012299, 0.18069018, 0.63092485, 0.55124203,\n",
       "       0.56708121, 0.81834498, 0.9389873 , 0.19290141, 0.71284402,\n",
       "       0.6979398 , 0.2582965 , 0.91580782, 0.53235819, 0.55796442,\n",
       "       0.32277227, 0.33863078, 0.33230155, 0.97881821, 0.2032152 ,\n",
       "       0.66702606, 0.57478427, 0.05197529, 0.5428381 , 0.20794911,\n",
       "       0.09109018, 0.86985571, 0.02736978, 0.96862452, 0.32749989,\n",
       "       0.41027796, 0.13554422, 0.12706631, 0.41398398, 0.61744374,\n",
       "       0.1322669 , 0.97448122, 0.1806351 , 0.76034991, 0.48216182,\n",
       "       0.76807887, 0.30289844, 0.01517509, 0.46336869, 0.70333708,\n",
       "       0.06604089, 0.66901142, 0.34547906, 0.59172147, 0.22905346,\n",
       "       0.26756836, 0.93282699, 0.82614506, 0.14544319, 0.64700361,\n",
       "       0.88395117, 0.74136053, 0.5157108 , 0.13525184, 0.03988365,\n",
       "       0.83432183, 0.11705787, 0.52310231, 0.87305847, 0.03870784,\n",
       "       0.69239079, 0.47626848, 0.16926449, 0.06317189, 0.03222409,\n",
       "       0.24243086, 0.11270682, 0.40499002, 0.04207297, 0.92656545,\n",
       "       0.93526291, 0.8104269 , 0.18834308, 0.58731822, 0.90351056,\n",
       "       0.96734226, 0.06753921, 0.31758607, 0.69686297, 0.64026538,\n",
       "       0.63262331, 0.82875065, 0.71311043, 0.33548023, 0.16769468,\n",
       "       0.76468982, 0.35931506, 0.08800478, 0.7295676 , 0.88104993,\n",
       "       0.04126388, 0.17486776, 0.42009741, 0.34060658, 0.04476892,\n",
       "       0.11289131, 0.43804149, 0.0710732 , 0.81624511, 0.86611565,\n",
       "       0.13111984, 0.19321945, 0.43749275, 0.97092532, 0.77386096,\n",
       "       0.13177647, 0.92717986, 0.82779658, 0.39273167, 0.14057065,\n",
       "       0.05213634, 0.09272932, 0.88698963, 0.16815097, 0.36288661,\n",
       "       0.65428189, 0.60482195, 0.39499287, 0.3746054 , 0.06307277,\n",
       "       0.42895903, 0.71972093, 0.76803089, 0.19436815, 0.86287077,\n",
       "       0.02872195, 0.90212882, 0.23654588, 0.12858426, 0.31787579,\n",
       "       0.8487613 , 0.83229775, 0.34565135, 0.23997119, 0.53578755,\n",
       "       0.27146694, 0.03443087, 0.62708559, 0.52020046, 0.04195581,\n",
       "       0.75747277, 0.98834976, 0.80140096, 0.34398109, 0.33539124,\n",
       "       0.3515714 , 0.44294568, 0.57949344, 0.61756091, 0.17711749,\n",
       "       0.86498179, 0.71027069, 0.17063169, 0.85508266, 0.01985662,\n",
       "       0.64168373, 0.16233435, 0.25755049, 0.34260646, 0.00614414,\n",
       "       0.43855106, 0.79704411, 0.67566494, 0.54502309, 0.56422699,\n",
       "       0.01398415, 0.60897714, 0.98856638, 0.22410702, 0.58721772,\n",
       "       0.83505795, 0.79249758, 0.329228  , 0.35720256, 0.96011296,\n",
       "       0.22379559, 0.21153671, 0.15391517, 0.49589585, 0.26129478,\n",
       "       0.55568644, 0.072916  , 0.37851684, 0.46108903, 0.77854045,\n",
       "       0.72044272, 0.23120448, 0.02454439, 0.25736494, 0.41011603,\n",
       "       0.008399  , 0.47154895, 0.85242211, 0.9231797 , 0.23143613,\n",
       "       0.99095491, 0.0059979 , 0.33525052, 0.78925811, 0.09851152,\n",
       "       0.44233225, 0.38066932, 0.83259847, 0.71196219, 0.35500083,\n",
       "       0.02463633, 0.69351252, 0.42121194, 0.85834944, 0.57507355,\n",
       "       0.94006236, 0.88025552, 0.45814503, 0.01731007, 0.06865464,\n",
       "       0.32060802, 0.59230189, 0.61005244, 0.5124275 , 0.14475646,\n",
       "       0.87680869, 0.73823518, 0.37332038, 0.82868638, 0.09023954,\n",
       "       0.06400322, 0.50589695, 0.93342671, 0.14896192, 0.56947879,\n",
       "       0.05974865, 0.16927793, 0.06902836, 0.90602245, 0.44741006,\n",
       "       0.1063852 , 0.66525978, 0.50227338, 0.40920638, 0.72799347,\n",
       "       0.17209041, 0.38446089, 0.26700114, 0.30822087, 0.1773028 ,\n",
       "       0.48255848, 0.6297172 , 0.05955332, 0.19688727, 0.27920844,\n",
       "       0.70782061, 0.32742909, 0.42529404, 0.7047675 , 0.15907717,\n",
       "       0.43940389, 0.62932999, 0.9250581 , 0.35698796, 0.81913345,\n",
       "       0.64014279, 0.71505249, 0.73842252, 0.97099961, 0.24604924,\n",
       "       0.04258158, 0.24779727, 0.04501664, 0.70546163, 0.83470677,\n",
       "       0.93413586, 0.47079336, 0.51235952, 0.26298048, 0.09889671,\n",
       "       0.79884636, 0.14280278, 0.80566579, 0.8795261 , 0.49992016,\n",
       "       0.91425194, 0.41241259, 0.20037359, 0.64357111, 0.39986514,\n",
       "       0.6142315 , 0.4373114 , 0.59310375, 0.95144001, 0.55312043,\n",
       "       0.90373536, 0.13850475, 0.00154376, 0.61283435, 0.54170293,\n",
       "       0.78063066, 0.82149395, 0.95340976, 0.60995609, 0.29008182,\n",
       "       0.82680799, 0.37601689, 0.60917703, 0.62002156, 0.44149997,\n",
       "       0.1987719 , 0.44395362, 0.92476734, 0.67143436, 0.0815231 ,\n",
       "       0.57265925, 0.1206622 , 0.99996372, 0.99738035, 0.69471214,\n",
       "       0.37387984, 0.40151079, 0.92509941, 0.24485884, 0.66401268,\n",
       "       0.48122075, 0.03494356, 0.11089546, 0.89536938, 0.89210114,\n",
       "       0.91516099, 0.30740167, 0.29841963, 0.65925186, 0.59513772,\n",
       "       0.98436901, 0.61562226, 0.15471633, 0.83146947, 0.81569707,\n",
       "       0.09204188, 0.8877899 , 0.01643906, 0.86393011, 0.89877069,\n",
       "       0.85036657, 0.65286936, 0.32875524, 0.54537933, 0.23793517,\n",
       "       0.87178466, 0.17673374, 0.37063587, 0.75958453, 0.30618391,\n",
       "       0.61613925, 0.21929117, 0.87252367, 0.64786491, 0.47300294,\n",
       "       0.23419032, 0.83382181, 0.09851632, 0.20502686, 0.23473057,\n",
       "       0.59697377, 0.62846754, 0.98265104, 0.17631667, 0.79997741,\n",
       "       0.15526401, 0.36099196, 0.95507526, 0.13015837, 0.27284659,\n",
       "       0.80911787, 0.96565706, 0.09242216, 0.58342427, 0.40542631,\n",
       "       0.89932419, 0.08478345, 0.18113628, 0.05066547, 0.30127874,\n",
       "       0.19018385, 0.00860539, 0.1275229 , 0.11286472, 0.73041445,\n",
       "       0.23937503, 0.90157012, 0.32851393, 0.87404272, 0.23652951,\n",
       "       0.37845461, 0.54229056, 0.51579398, 0.41380212, 0.38886661,\n",
       "       0.34033082, 0.40223463, 0.4571099 , 0.38299106, 0.65808973,\n",
       "       0.88121421, 0.57267258, 0.42804046, 0.25837793, 0.86526943,\n",
       "       0.1732783 , 0.57995282, 0.7273775 , 0.73040234, 0.40399582,\n",
       "       0.11792747, 0.76359463, 0.53366109, 0.72203486, 0.59763234,\n",
       "       0.42286597, 0.93348609, 0.99397099, 0.54783884, 0.73023457,\n",
       "       0.02798429, 0.86359128, 0.99863076, 0.32530982, 0.85026083,\n",
       "       0.61149212, 0.44111308, 0.52720459, 0.77982061, 0.25135019,\n",
       "       0.46289232, 0.84718667, 0.67802359, 0.36786229, 0.13798301,\n",
       "       0.40280945, 0.93129709, 0.67316279, 0.41922982, 0.56866661,\n",
       "       0.04171068, 0.99563413, 0.61900422, 0.77946612, 0.93133864,\n",
       "       0.34161856, 0.8112992 , 0.8727098 , 0.66598823, 0.58878655,\n",
       "       0.89335226, 0.44858402, 0.24438358, 0.81417296, 0.6971494 ,\n",
       "       0.40960454, 0.00571508, 0.95401436, 0.6052526 , 0.00654628,\n",
       "       0.49849349, 0.59863535, 0.30014745, 0.4617575 , 0.49559978,\n",
       "       0.58565914, 0.86963799, 0.83222696, 0.77856305, 0.54843311,\n",
       "       0.61345196, 0.73426973, 0.56636909, 0.77521013, 0.98654561,\n",
       "       0.78920569, 0.61433598, 0.15828454, 0.47638631, 0.28364917,\n",
       "       0.15381227, 0.77722042, 0.05896313, 0.0791225 , 0.66423846,\n",
       "       0.52334498, 0.44640689, 0.30683045, 0.01728512, 0.29352684,\n",
       "       0.26779397, 0.0367256 , 0.80403958, 0.33379956, 0.89188668,\n",
       "       0.81035323, 0.96410121, 0.95771406, 0.5911655 , 0.31150332,\n",
       "       0.91842073, 0.05065046, 0.22574268, 0.3627061 , 0.4122557 ,\n",
       "       0.9446213 , 0.57938255, 0.18676015, 0.59648467, 0.9337563 ,\n",
       "       0.13413814, 0.98228353, 0.15387565, 0.82072814, 0.67753647,\n",
       "       0.40408926, 0.21728704, 0.77358474, 0.84769593, 0.52969962,\n",
       "       0.40959972, 0.01830795, 0.14865961, 0.80433519, 0.41977812,\n",
       "       0.33921757, 0.29714585, 0.71798599, 0.99780718, 0.55190228,\n",
       "       0.88989605, 0.16846829, 0.8835643 , 0.70277564, 0.42210865,\n",
       "       0.86331495, 0.23504323, 0.56375066, 0.02656025, 0.38005145,\n",
       "       0.3618351 , 0.09124352, 0.04525353, 0.34245151, 0.35541398,\n",
       "       0.99583824, 0.94420457, 0.13114411, 0.51835506, 0.47724538,\n",
       "       0.40110641, 0.9306144 , 0.51533615, 0.80958202, 0.88177223])"
      ]
     },
     "execution_count": 10,
     "metadata": {},
     "output_type": "execute_result"
    }
   ],
   "source": [
    "x = np.random.rand(1000)\n",
    "x"
   ]
  },
  {
   "cell_type": "markdown",
   "metadata": {},
   "source": [
    "We have our random set stored in x. Now we plot the histogram as below"
   ]
  },
  {
   "cell_type": "code",
   "execution_count": 11,
   "metadata": {},
   "outputs": [
    {
     "data": {
      "text/plain": [
       "(array([106., 104.,  78.,  96.,  95., 106.,  97.,  96., 110., 112.]),\n",
       " array([0.00154376, 0.10138576, 0.20122775, 0.30106975, 0.40091175,\n",
       "        0.50075374, 0.60059574, 0.70043774, 0.80027973, 0.90012173,\n",
       "        0.99996372]),\n",
       " <a list of 10 Patch objects>)"
      ]
     },
     "execution_count": 11,
     "metadata": {},
     "output_type": "execute_result"
    },
    {
     "data": {
      "image/png": "[encoded data removed]",
      "text/plain": [
       "<Figure size 432x288 with 1 Axes>"
      ]
     },
     "metadata": {
      "needs_background": "light"
     },
     "output_type": "display_data"
    }
   ],
   "source": [
    "plt.hist(x)"
   ]
  },
  {
   "cell_type": "markdown",
   "metadata": {},
   "source": [
    "Compute and draw the histogram of x. The return value is a tuple (n, bins, patches) or ([n0, n1, ...], bins, [patches0, patches1,...]) if the input contains multiple data.\n",
    "\n",
    "{ref : https://matplotlib.org/api/_as_gen/matplotlib.pyplot.hist.html }"
   ]
  },
  {
   "cell_type": "markdown",
   "metadata": {},
   "source": [
    "### Exponential\n",
    "\n",
    "Draw samples from an exponential distribution.\n",
    "\n",
    "Its probability density function is\n",
    "\n",
    "https://imgur.com/469Rfje \n",
    "\n",
    "\n",
    "\n"
   ]
  },
  {
   "cell_type": "code",
   "execution_count": null,
   "metadata": {},
   "outputs": [],
   "source": []
  }
 ],
 "metadata": {
  "kernelspec": {
   "display_name": "Python 3",
   "language": "python",
   "name": "python3"
  },
  "language_info": {
   "codemirror_mode": {
    "name": "ipython",
    "version": 3
   },
   "file_extension": ".py",
   "mimetype": "text/x-python",
   "name": "python",
   "nbconvert_exporter": "python",
   "pygments_lexer": "ipython3",
   "version": "3.7.0"
  }
 },
 "nbformat": 4,
 "nbformat_minor": 2
}
